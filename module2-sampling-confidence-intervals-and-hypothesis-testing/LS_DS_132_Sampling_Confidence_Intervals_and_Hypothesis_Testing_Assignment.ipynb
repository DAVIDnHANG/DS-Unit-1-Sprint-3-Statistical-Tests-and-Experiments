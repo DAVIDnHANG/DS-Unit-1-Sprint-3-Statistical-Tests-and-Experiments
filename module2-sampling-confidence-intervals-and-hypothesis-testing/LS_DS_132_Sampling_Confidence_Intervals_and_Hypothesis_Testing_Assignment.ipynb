{
  "nbformat": 4,
  "nbformat_minor": 0,
  "metadata": {
    "colab": {
      "name": "LS_DS_132_Sampling_Confidence_Intervals_and_Hypothesis_Testing_Assignment.ipynb",
      "provenance": [],
      "collapsed_sections": [],
      "include_colab_link": true
    },
    "kernelspec": {
      "name": "python3",
      "display_name": "Python 3"
    }
  },
  "cells": [
    {
      "cell_type": "markdown",
      "metadata": {
        "id": "view-in-github",
        "colab_type": "text"
      },
      "source": [
        "<a href=\"https://colab.research.google.com/github/DAVIDnHANG/DS-Unit-1-Sprint-3-Statistical-Tests-and-Experiments/blob/master/module2-sampling-confidence-intervals-and-hypothesis-testing/LS_DS_132_Sampling_Confidence_Intervals_and_Hypothesis_Testing_Assignment.ipynb\" target=\"_parent\"><img src=\"https://colab.research.google.com/assets/colab-badge.svg\" alt=\"Open In Colab\"/></a>"
      ]
    },
    {
      "cell_type": "markdown",
      "metadata": {
        "id": "11OzdxWTM7UR",
        "colab_type": "text"
      },
      "source": [
        "## Assignment - Build a confidence interval\n",
        "\n",
        "A confidence interval refers to a neighborhood around some point estimate, the size of which is determined by the desired p-value. For instance, we might say that 52% of Americans prefer tacos to burritos, with a 95% confidence interval of +/- 5%.\n",
        "\n",
        "52% (0.52) is the point estimate, and +/- 5% (the interval $[0.47, 0.57]$) is the confidence interval. \"95% confidence\" means a p-value $\\leq 1 - 0.95 = 0.05$.\n",
        "\n",
        "In this case, the confidence interval includes $0.5$ - which is the natural null hypothesis (that half of Americans prefer tacos and half burritos, thus there is no clear favorite). So in this case, we could use the confidence interval to report that we've failed to reject the null hypothesis.\n",
        "\n",
        "But providing the full analysis with a confidence interval, including a graphical representation of it, can be a helpful and powerful way to tell your story. Done well, it is also more intuitive to a layperson than simply saying \"fail to reject the null hypothesis\" - it shows that in fact the data does *not* give a single clear result (the point estimate) but a whole range of possibilities.\n",
        "\n",
        "How is a confidence interval built, and how should it be interpreted? It does *not* mean that 95% of the data lies in that interval - instead, the frequentist interpretation is \"if we were to repeat this experiment 100 times, we would expect the average result to lie in this interval ~95 times.\"\n",
        "\n",
        "For a 95% confidence interval and a normal(-ish) distribution, you can simply remember that +/-2 standard deviations contains 95% of the probability mass, and so the 95% confidence interval based on a given sample is centered at the mean (point estimate) and has a range of +/- 2 (or technically 1.96) standard deviations.\n",
        "\n",
        "Different distributions/assumptions (90% confidence, 99% confidence) will require different math, but the overall process and interpretation (with a frequentist approach) will be the same.\n",
        "\n",
        "Your assignment - using the data from the prior module ([congressional voting records](https://archive.ics.uci.edu/ml/datasets/Congressional+Voting+Records)):\n",
        "\n",
        "\n",
        "### Confidence Intervals:\n",
        "1. Generate and numerically represent a confidence interval\n",
        "2. Graphically (with a plot) represent the confidence interval\n",
        "3. Interpret the confidence interval - what does it tell you about the data and its distribution?\n",
        "\n",
        "### Chi-squared tests:\n",
        "4. Take a dataset that we have used in the past in class that has **categorical** variables. Pick two of those categorical variables and run a chi-squared tests on that data\n",
        "  - By hand using Numpy\n",
        "  - In a single line using Scipy\n"
      ]
    },
    {
      "cell_type": "code",
      "metadata": {
        "id": "9r10G1NPMrwO",
        "colab_type": "code",
        "colab": {}
      },
      "source": [
        "!wget https://archive.ics.uci.edu/ml/machine-learning-databases/voting-records/house-votes-84.data"
      ],
      "execution_count": 0,
      "outputs": []
    },
    {
      "cell_type": "code",
      "metadata": {
        "id": "Ckcr4A4FM7cs",
        "colab_type": "code",
        "colab": {}
      },
      "source": [
        "import pandas as pd\n",
        "import numpy as np\n",
        "import scipy.stats as stats\n",
        "house = pd.read_csv(\"house-votes-84.data\", header=None, names=['party','handicapped-infants','water-project',\n",
        "                        'budget','physician-fee-freeze', 'el-salvador-aid',\n",
        "                        'religious-groups','anti-satellite-ban',\n",
        "                        'aid-to-contras','mx-missile','immigration',\n",
        "                        'synfuels', 'education', 'right-to-sue','crime','duty-free',\n",
        "                        'south-africa'] )\n",
        "house=house.replace({'?':np.NaN, 'n':0, 'y':1})\n",
        "# let split the data into reublican and democraft and y=1, n=0, ? = na.NaN\n",
        "#house.head(5)\n",
        "#seperate files\n",
        "republican = house[house['party']== 'republican']\n",
        "democrat = house[house['party'] == 'democrat']\n",
        "\n",
        "#get the mean precentage of yes votes\n",
        "MeanForDemo = democrat.mean()\n",
        "List_of_dec_rounded_demoncrats=[round(elem,2) for elem in MeanForDemo]\n",
        "MeanForRep = republican.mean()\n",
        "List_of_dec_rounded_republican = [round(elem,2) for elem in MeanForRep]\n",
        "List_of_dec_rounded_republican\n",
        "democrat.columns\n",
        "\n"
      ],
      "execution_count": 0,
      "outputs": []
    },
    {
      "cell_type": "code",
      "metadata": {
        "id": "lbd3H04oJB8h",
        "colab_type": "code",
        "colab": {}
      },
      "source": [
        "def confidence_interval(data, confidence=.95):\n",
        "  data=np.array(data)\n",
        "  mean=np.nanmean(data)\n",
        "  n=len(data)\n",
        "  #stderr= stats.sem(data)\n",
        "  stderr = np.std(data,ddof=1 / np.sqrt(n))\n",
        "  margin_of_error = stderr * stats.t.ppf((1+confidence)/2.0, n-1, nan_policy='omit')\n",
        "  print(margin_of_error)\n",
        "  return(mean,mean-margin_of_error, mean+ margin_of_error)\n"
      ],
      "execution_count": 0,
      "outputs": []
    },
    {
      "cell_type": "code",
      "metadata": {
        "id": "PbKRmZBdM7vu",
        "colab_type": "code",
        "colab": {}
      },
      "source": [
        "def mean_confidence_interval(data, confidence=.95):\n",
        "  a = 1.0 * np.array(data)\n",
        "  n=len(a)\n",
        "  m = np.nanmean(a) \n",
        "  se = scipy.stats.sem(a, nan_policy='omit')\n",
        "  h=se*scipy.stats.t.ppf((1+confidence)/2., n-1)\n",
        "  return m, m-h, m+h"
      ],
      "execution_count": 0,
      "outputs": []
    },
    {
      "cell_type": "markdown",
      "metadata": {
        "id": "B-1pjIkXSZ14",
        "colab_type": "text"
      },
      "source": [
        "This is Generate and numericallyu represents a confidence interval\n"
      ]
    },
    {
      "cell_type": "code",
      "metadata": {
        "id": "BJOI82jQK6Im",
        "colab_type": "code",
        "colab": {}
      },
      "source": [
        "mean_confidence_interval(democrat['physician-fee-freeze'])"
      ],
      "execution_count": 0,
      "outputs": []
    },
    {
      "cell_type": "markdown",
      "metadata": {
        "id": "tz2cD9MzSlXG",
        "colab_type": "text"
      },
      "source": [
        "Graphically (with a plot) represent the confidence interval"
      ]
    },
    {
      "cell_type": "code",
      "metadata": {
        "id": "ALLSM9ZnMNVr",
        "colab_type": "code",
        "colab": {}
      },
      "source": [
        "import seaborn as sns\n",
        "import matplotlib.pyplot as plt\n",
        "\n",
        "sns.kdeplot(democrat['physician-fee-freeze'])\n",
        "CI = mean_confidence_interval(democrat['physician-fee-freeze'])\n",
        "plt.axvline(x=CI[1], color='red')\n",
        "plt.axvline(x=CI[2], color='red')\n",
        "plt.axvline(x=CI[0], color='k')\n",
        "\n",
        "ind = np.arange(16)\n",
        "#plt\n",
        "fig, ax = plt.subplots(figsize=(15,8))\n",
        "\n",
        "#what will plotting?\n",
        "plt.bar(ind, List_of_dec_rounded_demoncrats, width=.3, color='b')\n",
        "Rep = ax.bar(ind+.5, List_of_dec_rounded_republican, width=.3, color='r')\n",
        "\n",
        "#set labels title\n",
        "ax.set_ylabel('precentage')\n",
        "ax.set_title('comparsion if each group')\n",
        "\n",
        "#this is the x ticks\n",
        "ax.set_xticks(ind + .3)\n",
        "ax.set_xticklabels(bills,rotation=50)\n",
        "#\n",
        "ax.legend(  (Demo[0],Rep[0]), ('Men', 'Women'))\n",
        "plt.show()\n"
      ],
      "execution_count": 0,
      "outputs": []
    },
    {
      "cell_type": "markdown",
      "metadata": {
        "id": "PLeECXuTbZhW",
        "colab_type": "text"
      },
      "source": [
        "redoing graph. leaveing above graph for to help me redo"
      ]
    },
    {
      "cell_type": "code",
      "metadata": {
        "id": "W7SIxt4FbCDH",
        "colab_type": "code",
        "outputId": "3ee76167-59f4-45e8-f1be-f7115c7413c7",
        "colab": {
          "base_uri": "https://localhost:8080/",
          "height": 34
        }
      },
      "source": [
        "import scipy as stddd\n",
        "GetSTandardDev_democrat=[]\n",
        "count = 0\n",
        "while (count<16):\n",
        "  #print(count)\n",
        "  GetSTandardDev_democrat.append(np.std(democrat.iloc[:,[count]]))\n",
        "  count=count+1\n",
        "print(list(GetSTandardDev_democrat[5]))\n"
      ],
      "execution_count": 0,
      "outputs": [
        {
          "output_type": "stream",
          "text": [
            "[0.41129758751770606]\n"
          ],
          "name": "stdout"
        }
      ]
    },
    {
      "cell_type": "code",
      "metadata": {
        "id": "CKIz59eNfWjo",
        "colab_type": "code",
        "outputId": "3fed13e5-69a4-4ae6-9967-0ef8bce94cf5",
        "colab": {
          "base_uri": "https://localhost:8080/",
          "height": 34
        }
      },
      "source": [
        "GetSTandardDev_Rep=[]\n",
        "count = 0\n",
        "while (count<16):\n",
        "  #print(count)\n",
        "  GetSTandardDev_Rep.append(np.std(republican.iloc[:,[count]]))\n",
        "  count=count+1\n",
        "print(list(GetSTandardDev_Rep[5]))"
      ],
      "execution_count": 0,
      "outputs": [
        {
          "output_type": "stream",
          "text": [
            "[0.21478842602023432]\n"
          ],
          "name": "stdout"
        }
      ]
    },
    {
      "cell_type": "code",
      "metadata": {
        "id": "Nm7EofEQWsiI",
        "colab_type": "code",
        "colab": {}
      },
      "source": [
        "# libraries\n",
        "import numpy as np\n",
        "import matplotlib.pyplot as plt\n",
        " \n",
        "# width of the bars\n",
        "barWidth = 0.3\n",
        " \n",
        "# Choose the height of the blue bars\n",
        "bars1 = List_of_dec_rounded_demoncrats\n",
        " \n",
        "# Choose the height of the red bars\n",
        "bars2 = List_of_dec_rounded_republican\n",
        " \n",
        "# Choose the height of the error bars (bars1)\n",
        "yer1 = GetSTandardDev_democrat\n",
        " \n",
        "# Choose the height of the error bars (bars2)\n",
        "yer2 = GetSTandardDev_Rep\n",
        " \n",
        "# The x position of bars\n",
        "r1 = np.arange(len(bars1))\n",
        "r2 = [x + barWidth for x in r1]\n",
        " \n",
        "# Create blue bars\n",
        "plt.bar(r1, bars1, width = barWidth, color = 'blue', edgecolor = 'black', yerr=yer1, capsize=17, label='demo')\n",
        " \n",
        "# Create cyan bars\n",
        "plt.bar(r2, bars2, width = barWidth, color = 'red', edgecolor = 'black', yerr=yer2, capsize=17, label='repbulican')\n",
        " \n",
        "# general layout\n",
        "plt.xticks([r + barWidth for r in range(len(bars1))], ['cond_A', 'cond_B', 'cond_C'])\n",
        "plt.ylabel('height')\n",
        "plt.legend()\n",
        " \n",
        "# Show graphic\n",
        "plt.show()\n"
      ],
      "execution_count": 0,
      "outputs": []
    },
    {
      "cell_type": "code",
      "metadata": {
        "id": "sS5NzZH-DZBp",
        "colab_type": "code",
        "outputId": "28f61073-3303-4574-e3e3-97d464f8b93a",
        "colab": {
          "base_uri": "https://localhost:8080/",
          "height": 34
        }
      },
      "source": [
        "bars1 = GetSTandardDev_democrat\n",
        "type(bars1)"
      ],
      "execution_count": 0,
      "outputs": [
        {
          "output_type": "execute_result",
          "data": {
            "text/plain": [
              "list"
            ]
          },
          "metadata": {
            "tags": []
          },
          "execution_count": 129
        }
      ]
    },
    {
      "cell_type": "markdown",
      "metadata": {
        "id": "4ohsJhQUmEuS",
        "colab_type": "text"
      },
      "source": [
        "## Stretch goals:\n",
        "\n",
        "1. Write a summary of your findings, mixing prose and math/code/results. *Note* - yes, this is by definition a political topic. It is challenging but important to keep your writing voice *neutral* and stick to the facts of the data. Data science often involves considering controversial issues, so it's important to be sensitive about them (especially if you want to publish).\n",
        "2. Apply the techniques you learned today to your project data or other data of your choice, and write/discuss your findings here.\n",
        "3. Refactor your code so it is elegant, readable, and can be easily run for all issues."
      ]
    },
    {
      "cell_type": "markdown",
      "metadata": {
        "id": "nyJ3ySr7R2k9",
        "colab_type": "text"
      },
      "source": [
        "## Resources\n",
        "\n",
        "- [Interactive visualize the Chi-Squared test](https://homepage.divms.uiowa.edu/~mbognar/applets/chisq.html)\n",
        "- [Calculation of Chi-Squared test statistic](https://en.wikipedia.org/wiki/Pearson%27s_chi-squared_test)\n",
        "- [Visualization of a confidence interval generated by R code](https://commons.wikimedia.org/wiki/File:Confidence-interval.svg)\n",
        "- [Expected value of a squared standard normal](https://math.stackexchange.com/questions/264061/expected-value-calculation-for-squared-normal-distribution) (it's 1 - which is why the expected value of a Chi-Squared with $n$ degrees of freedom is $n$, as it's the sum of $n$ squared standard normals)"
      ]
    }
  ]
}