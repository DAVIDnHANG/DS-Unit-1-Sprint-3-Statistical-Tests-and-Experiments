{
  "nbformat": 4,
  "nbformat_minor": 0,
  "metadata": {
    "colab": {
      "name": "LS_DS_133_Introduction_to_Bayesian_Inference_Assignment.ipynb",
      "provenance": [],
      "collapsed_sections": [],
      "include_colab_link": true
    },
    "kernelspec": {
      "name": "python3",
      "display_name": "Python 3"
    }
  },
  "cells": [
    {
      "cell_type": "markdown",
      "metadata": {
        "id": "view-in-github",
        "colab_type": "text"
      },
      "source": [
        "<a href=\"https://colab.research.google.com/github/DAVIDnHANG/DS-Unit-1-Sprint-3-Statistical-Tests-and-Experiments/blob/master/module3-introduction-to-bayesian-inference/LS_DS_133_Introduction_to_Bayesian_Inference_Assignment.ipynb\" target=\"_parent\"><img src=\"https://colab.research.google.com/assets/colab-badge.svg\" alt=\"Open In Colab\"/></a>"
      ]
    },
    {
      "cell_type": "markdown",
      "metadata": {
        "id": "H7OLbevlbd_Z",
        "colab_type": "text"
      },
      "source": [
        "# Lambda School Data Science Module 133\n",
        "\n",
        "## Introduction to Bayesian Inference\n",
        "\n",
        "\n"
      ]
    },
    {
      "cell_type": "markdown",
      "metadata": {
        "id": "P-DzzRk5bf0z",
        "colab_type": "text"
      },
      "source": [
        "## Assignment - Code it up!\n",
        "\n",
        "Most of the above was pure math - now write Python code to reproduce the results! This is purposefully open ended - you'll have to think about how you should represent probabilities and events. You can and should look things up, and as a stretch goal - refactor your code into helpful reusable functions!\n",
        "\n",
        "Specific goals/targets:\n",
        "\n",
        "1. Write a function `def prob_drunk_given_positive(prob_drunk_prior, prob_positive, prob_positive_drunk)` that reproduces the example from lecture, and use it to calculate and visualize a range of situations\n",
        "2. Explore `scipy.stats.bayes_mvs` - read its documentation, and experiment with it on data you've tested in other ways earlier this week\n",
        "3. Create a visualization comparing the results of a Bayesian approach to a traditional/frequentist approach\n",
        "4. In your own words, summarize the difference between Bayesian and Frequentist statistics\n",
        "\n",
        "If you're unsure where to start, check out [this blog post of Bayes theorem with Python](https://dataconomy.com/2015/02/introduction-to-bayes-theorem-with-python/) - you could and should create something similar!\n",
        "\n",
        "Stretch goals:\n",
        "\n",
        "- Apply a Bayesian technique to a problem you previously worked (in an assignment or project work) on from a frequentist (standard) perspective\n",
        "- Check out [PyMC3](https://docs.pymc.io/) (note this goes beyond hypothesis tests into modeling) - read the guides and work through some examples\n",
        "- Take PyMC3 further - see if you can build something with it!"
      ]
    },
    {
      "cell_type": "markdown",
      "metadata": {
        "id": "IEMit1aiy5PO",
        "colab_type": "text"
      },
      "source": [
        "(prob of being drunk / test +) = (test +)( prob of being drunk) * you are drunk\n",
        "                             ------------------------------------------------\n",
        "                 (Prob of being drunk * test + ) + Prob of not being drunk * test\n",
        "```\n",
        "\n"
      ]
    },
    {
      "cell_type": "code",
      "metadata": {
        "id": "xpVhZyUnbf7o",
        "colab_type": "code",
        "colab": {}
      },
      "source": [
        "# TODO - code!$\n",
        "\n",
        "#prob_pos_drunk - we know this in the past in data.\n",
        "#prob_positive - we know that the test has a % chance of testing positive \n",
        "#prob_positive_drunk - you tested positive and is drunk\n",
        "def prob_drunk_given_positive(prob_drunk_prior, prob_positive, prob_positive_drunk):\n",
        "  return (prob_positive_drunk *  prob_drunk_prior) / prob_positive\n",
        "\n"
      ],
      "execution_count": 0,
      "outputs": []
    },
    {
      "cell_type": "code",
      "metadata": {
        "id": "WY4ok9u_zsFG",
        "colab_type": "code",
        "colab": {}
      },
      "source": [
        "#prob_pos_drunk - we know this in the past in data.\n",
        "#prob_positive - we know that the test has a % chance of testing positive \n",
        "#prob_positive_drunk - you tested positive and is drunk\n",
        "def prob_drunk_given_positive_testTwo(prob_drunk_prior, prob_positive, prob_positive_drunk):\n",
        "  return (prob_positive* (prob_positive_drunk * prob_drunk_prior)) / ((prob_positive * prob_drunk_prior )+((1-prob_drunk_prior) * prob_positive))"
      ],
      "execution_count": 0,
      "outputs": []
    },
    {
      "cell_type": "code",
      "metadata": {
        "id": "qkhUJwUORNVh",
        "colab_type": "code",
        "outputId": "1ac36212-cc9d-4160-c2f0-9e7bbe5f3f88",
        "colab": {
          "base_uri": "https://localhost:8080/",
          "height": 87
        }
      },
      "source": [
        "#from\n",
        "n = prob_drunk_given_positive(.0001, .08, 1)\n",
        "print(n)\n",
        "m = prob_drunk_given_positive(n, .08, 1)\n",
        "print(m)\n",
        "x= prob_drunk_given_positive_testTwo(.0001,.08,1)\n",
        "print(x)\n",
        "y= prob_drunk_given_positive_testTwo(x,.08,1)\n",
        "print(y)"
      ],
      "execution_count": 9,
      "outputs": [
        {
          "output_type": "stream",
          "text": [
            "0.00125\n",
            "0.015625\n",
            "0.00010000000000000002\n",
            "0.00010000000000000002\n"
          ],
          "name": "stdout"
        }
      ]
    },
    {
      "cell_type": "markdown",
      "metadata": {
        "id": "OCG_keNdhU9e",
        "colab_type": "text"
      },
      "source": [
        "scipy.stats.bayes_mvs(data,alpha=.9)\n",
        "data = bayes_mvs turn multi-dim data into 1-d\n",
        "alpha - confidence interval\n"
      ]
    },
    {
      "cell_type": "code",
      "metadata": {
        "id": "CkR1fJE-Yacm",
        "colab_type": "code",
        "colab": {}
      },
      "source": [
        ""
      ],
      "execution_count": 0,
      "outputs": []
    },
    {
      "cell_type": "markdown",
      "metadata": {
        "id": "9xf7bPjyYcFm",
        "colab_type": "text"
      },
      "source": [
        "4) Bayesian we need to have a hugh leap of faith that one of the condition is true.\n",
        "5) Frequentist statistics - we need lots of data. We know a repositive of data somewhere. \n",
        "In essence both need to know something about something from somewhere. "
      ]
    },
    {
      "cell_type": "markdown",
      "metadata": {
        "id": "uWgWjp3PQ3Sq",
        "colab_type": "text"
      },
      "source": [
        "## Resources"
      ]
    },
    {
      "cell_type": "markdown",
      "metadata": {
        "id": "QRgHqmYIQ9qn",
        "colab_type": "text"
      },
      "source": [
        "- [Worked example of Bayes rule calculation](https://en.wikipedia.org/wiki/Bayes'_theorem#Examples) (helpful as it fully breaks out the denominator)\n",
        "- [Source code for mvsdist in scipy](https://github.com/scipy/scipy/blob/90534919e139d2a81c24bf08341734ff41a3db12/scipy/stats/morestats.py#L139)"
      ]
    }
  ]
}